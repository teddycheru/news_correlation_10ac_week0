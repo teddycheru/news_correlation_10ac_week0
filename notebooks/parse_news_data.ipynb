{
 "cells": [
  {
   "cell_type": "code",
   "execution_count": 2,
   "metadata": {},
   "outputs": [],
   "source": [
    "import pandas as pd\n",
    "\n",
    "# Specify the path to the CSV file\n",
    "data_file_path = '../data/data.csv'\n",
    "rating_file_path = '../data/rating.csv'\n",
    "raw_data_file_path = '../data/raw-data.csv'\n",
    "traffic_data_file_path = '../data/traffic.csv'\n",
    "domains_location_file_path = '../data/domains_location.csv'\n",
    "\n",
    "# # Load the CSV file into a DataFrame\n",
    "data = pd.read_csv(data_file_path)"
   ]
  },
  {
   "cell_type": "code",
   "execution_count": 3,
   "metadata": {},
   "outputs": [],
   "source": [
    "rating = pd.read_csv(rating_file_path)"
   ]
  },
  {
   "cell_type": "code",
   "execution_count": 17,
   "metadata": {},
   "outputs": [],
   "source": [
    "raw_data = pd.read_csv(raw_data_file_path, dtype=str)"
   ]
  },
  {
   "cell_type": "code",
   "execution_count": 12,
   "metadata": {},
   "outputs": [],
   "source": [
    "traffic = pd.read_csv(traffic_data_file_path)"
   ]
  },
  {
   "cell_type": "code",
   "execution_count": 6,
   "metadata": {},
   "outputs": [],
   "source": [
    "domains_location = pd.read_csv(domains_location_file_path)"
   ]
  },
  {
   "cell_type": "code",
   "execution_count": 8,
   "metadata": {},
   "outputs": [
    {
     "name": "stdout",
     "output_type": "stream",
     "text": [
      "Index(['article_id', 'source_id', 'source_name', 'author', 'title',\n",
      "       'description', 'url', 'url_to_image', 'published_at', 'content',\n",
      "       'category', 'full_content'],\n",
      "      dtype='object')\n"
     ]
    }
   ],
   "source": [
    "data_column_names = data.columns\n",
    "print(data_column_names)"
   ]
  },
  {
   "cell_type": "code",
   "execution_count": null,
   "metadata": {},
   "outputs": [],
   "source": []
  },
  {
   "cell_type": "code",
   "execution_count": 9,
   "metadata": {},
   "outputs": [
    {
     "name": "stdout",
     "output_type": "stream",
     "text": [
      "Index(['SourceCommonName', 'location', 'Country'], dtype='object')\n"
     ]
    }
   ],
   "source": [
    "domains_location_column_names = domains_location.columns\n",
    "print(domains_location_column_names)"
   ]
  },
  {
   "cell_type": "code",
   "execution_count": 10,
   "metadata": {},
   "outputs": [
    {
     "name": "stdout",
     "output_type": "stream",
     "text": [
      "Index(['article_id', 'source_id', 'source_name', 'author', 'title',\n",
      "       'description', 'url', 'url_to_image', 'published_at', 'content',\n",
      "       'category', 'article', 'title_sentiment'],\n",
      "      dtype='object')\n"
     ]
    }
   ],
   "source": [
    "rating_column_names = rating.columns\n",
    "print(rating_column_names)"
   ]
  },
  {
   "cell_type": "code",
   "execution_count": 11,
   "metadata": {},
   "outputs": [
    {
     "name": "stdout",
     "output_type": "stream",
     "text": [
      "Index(['article_id', 'source_id', 'source_name', 'author', 'title',\n",
      "       'description', 'url', 'url_to_image', 'published_at', 'content',\n",
      "       'category'],\n",
      "      dtype='object')\n"
     ]
    }
   ],
   "source": [
    "raw_data_column_names = raw_data.columns\n",
    "print(raw_data_column_names)"
   ]
  },
  {
   "cell_type": "code",
   "execution_count": 13,
   "metadata": {},
   "outputs": [
    {
     "name": "stdout",
     "output_type": "stream",
     "text": [
      "Index(['GlobalRank', 'TldRank', 'Domain', 'TLD', 'RefSubNets', 'RefIPs',\n",
      "       'IDN_Domain', 'IDN_TLD', 'PrevGlobalRank', 'PrevTldRank',\n",
      "       'PrevRefSubNets', 'PrevRefIPs'],\n",
      "      dtype='object')\n"
     ]
    }
   ],
   "source": [
    "traffic_column_names = traffic.columns\n",
    "print(traffic_column_names)"
   ]
  },
  {
   "cell_type": "code",
   "execution_count": null,
   "metadata": {},
   "outputs": [],
   "source": [
    "raw_data.head()"
   ]
  },
  {
   "cell_type": "code",
   "execution_count": null,
   "metadata": {},
   "outputs": [],
   "source": [
    "traffic.head()"
   ]
  },
  {
   "cell_type": "code",
   "execution_count": null,
   "metadata": {},
   "outputs": [],
   "source": [
    "domains_location.head()"
   ]
  },
  {
   "cell_type": "markdown",
   "metadata": {},
   "source": [
    "## Top 10 websites that have the largest count of news articles\n"
   ]
  },
  {
   "cell_type": "code",
   "execution_count": 10,
   "metadata": {},
   "outputs": [
    {
     "name": "stdout",
     "output_type": "stream",
     "text": [
      "source_name\n",
      "ETF Daily News        16631\n",
      "The Times of India     7629\n",
      "GlobeNewswire          5485\n",
      "Forbes                 4423\n",
      "Biztoc.com             3968\n",
      "BBC News               3342\n",
      "Globalsecurity.org     3093\n",
      "Business Insider       2746\n",
      "ABC News               2188\n",
      "Marketscreener.com     1948\n",
      "Name: count, dtype: int64\n"
     ]
    }
   ],
   "source": [
    "top_10_largest_count = data['source_name'].value_counts().head(10)\n",
    "print(top_10_largest_count)"
   ]
  },
  {
   "cell_type": "markdown",
   "metadata": {},
   "source": [
    "## Bottom 10 websites that have the smallest count of news articles"
   ]
  },
  {
   "cell_type": "code",
   "execution_count": 9,
   "metadata": {},
   "outputs": [
    {
     "name": "stdout",
     "output_type": "stream",
     "text": [
      "source_name\n",
      "Omnigroup.com            1\n",
      "Fresno Bee               1\n",
      "Cs.ru.nl                 1\n",
      "Labnol.org               1\n",
      "Theedgemalaysia.com      1\n",
      "Schwab.com               1\n",
      "Amd.com                  1\n",
      "Bubbyandbean.com         1\n",
      "Thriftydecorchick.com    1\n",
      "Phpclasses.org           1\n",
      "Name: count, dtype: int64\n"
     ]
    }
   ],
   "source": [
    "bottom_10_largest_count = data['source_name'].value_counts(ascending=True).head(10)\n",
    "print(bottom_10_largest_count)"
   ]
  },
  {
   "cell_type": "code",
   "execution_count": 14,
   "metadata": {},
   "outputs": [
    {
     "name": "stdout",
     "output_type": "stream",
     "text": [
      "IDN_Domain\n",
      "google.com               1\n",
      "boardroomsecrets.info    1\n",
      "temat24.co.pl            1\n",
      "ip-tv.rs                 1\n",
      "i-camsystems.co.uk       1\n",
      "lavery.ca                1\n",
      "manulife-insurance.ca    1\n",
      "indiahospitality.cf      1\n",
      "cspiii.com               1\n",
      "dark0de-markets.com      1\n",
      "Name: count, dtype: int64\n"
     ]
    }
   ],
   "source": [
    "top_10_largest_count = traffic['IDN_Domain'].value_counts().head(10)\n",
    "print(top_10_largest_count)"
   ]
  },
  {
   "cell_type": "code",
   "execution_count": 15,
   "metadata": {},
   "outputs": [
    {
     "name": "stdout",
     "output_type": "stream",
     "text": [
      "category\n",
      "Stock          3999\n",
      "Health         2594\n",
      "Finance        2402\n",
      "Technology     2371\n",
      "Real estate    2352\n",
      "Canada         2324\n",
      "News           1852\n",
      "COVID          1821\n",
      "Education      1771\n",
      "Food           1613\n",
      "Name: count, dtype: int64\n"
     ]
    }
   ],
   "source": [
    "top_10_largest_count = data['category'].value_counts().head(10)\n",
    "print(top_10_largest_count)"
   ]
  }
 ],
 "metadata": {
  "kernelspec": {
   "display_name": "myenv",
   "language": "python",
   "name": "python3"
  },
  "language_info": {
   "codemirror_mode": {
    "name": "ipython",
    "version": 3
   },
   "file_extension": ".py",
   "mimetype": "text/x-python",
   "name": "python",
   "nbconvert_exporter": "python",
   "pygments_lexer": "ipython3",
   "version": "3.10.12"
  }
 },
 "nbformat": 4,
 "nbformat_minor": 2
}
