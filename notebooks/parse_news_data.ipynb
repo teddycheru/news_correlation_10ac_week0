{
 "cells": [
  {
   "cell_type": "code",
   "execution_count": 2,
   "metadata": {},
   "outputs": [],
   "source": [
    "import sys\n",
    "sys.path.append('../')  # Add the parent directory to the module search path\n",
    "\n",
    "import pandas as pd\n",
    "import matplotlib.pyplot as plt\n",
    "from src.loader import load_data\n",
    "from src.utils import parse_url\n",
    "\n",
    "# Specify the path to the CSV file\n",
    "data_file_path = '../data/data.csv'\n",
    "rating_file_path = '../data/rating.csv'\n",
    "raw_data_file_path = '../data/raw-data.csv'\n",
    "traffic_data_file_path = '../data/traffic.csv'\n",
    "domains_location_file_path = '../data/domains_location.csv'"
   ]
  },
  {
   "cell_type": "markdown",
   "metadata": {},
   "source": [
    "## Loading data using the custom loader module from the src package."
   ]
  },
  {
   "cell_type": "code",
   "execution_count": 3,
   "metadata": {},
   "outputs": [],
   "source": [
    "data = load_data(data_file_path)"
   ]
  },
  {
   "cell_type": "code",
   "execution_count": 18,
   "metadata": {},
   "outputs": [],
   "source": [
    "rating = load_data(rating_file_path)"
   ]
  },
  {
   "cell_type": "code",
   "execution_count": 18,
   "metadata": {},
   "outputs": [],
   "source": [
    "raw_data = load_data(raw_data_file_path)"
   ]
  },
  {
   "cell_type": "code",
   "execution_count": 4,
   "metadata": {},
   "outputs": [],
   "source": [
    "traffic = load_data(traffic_data_file_path)"
   ]
  },
  {
   "cell_type": "code",
   "execution_count": null,
   "metadata": {},
   "outputs": [],
   "source": [
    "domains_location = load_data(domains_location_file_path)"
   ]
  },
  {
   "cell_type": "code",
   "execution_count": 6,
   "metadata": {},
   "outputs": [
    {
     "name": "stdout",
     "output_type": "stream",
     "text": [
      "Index(['article_id', 'source_id', 'source_name', 'author', 'title',\n",
      "       'description', 'url', 'url_to_image', 'published_at', 'content',\n",
      "       'category', 'full_content'],\n",
      "      dtype='object')\n"
     ]
    }
   ],
   "source": [
    "data_column_names = data.columns\n",
    "print(data_column_names)"
   ]
  },
  {
   "cell_type": "code",
   "execution_count": 5,
   "metadata": {},
   "outputs": [
    {
     "data": {
      "text/html": [
       "<div>\n",
       "<style scoped>\n",
       "    .dataframe tbody tr th:only-of-type {\n",
       "        vertical-align: middle;\n",
       "    }\n",
       "\n",
       "    .dataframe tbody tr th {\n",
       "        vertical-align: top;\n",
       "    }\n",
       "\n",
       "    .dataframe thead th {\n",
       "        text-align: right;\n",
       "    }\n",
       "</style>\n",
       "<table border=\"1\" class=\"dataframe\">\n",
       "  <thead>\n",
       "    <tr style=\"text-align: right;\">\n",
       "      <th></th>\n",
       "      <th>article_id</th>\n",
       "      <th>source_id</th>\n",
       "      <th>source_name</th>\n",
       "      <th>author</th>\n",
       "      <th>title</th>\n",
       "      <th>description</th>\n",
       "      <th>url</th>\n",
       "      <th>url_to_image</th>\n",
       "      <th>published_at</th>\n",
       "      <th>content</th>\n",
       "      <th>category</th>\n",
       "      <th>full_content</th>\n",
       "    </tr>\n",
       "  </thead>\n",
       "  <tbody>\n",
       "    <tr>\n",
       "      <th>0</th>\n",
       "      <td>89541</td>\n",
       "      <td>NaN</td>\n",
       "      <td>International Business Times</td>\n",
       "      <td>Paavan MATHEMA</td>\n",
       "      <td>UN Chief Urges World To 'Stop The Madness' Of ...</td>\n",
       "      <td>UN Secretary-General Antonio Guterres urged th...</td>\n",
       "      <td>https://www.ibtimes.com/un-chief-urges-world-s...</td>\n",
       "      <td>https://d.ibtimes.com/en/full/4496078/nepals-g...</td>\n",
       "      <td>2023-10-30 10:12:35.000000</td>\n",
       "      <td>UN Secretary-General Antonio Guterres urged th...</td>\n",
       "      <td>Nepal</td>\n",
       "      <td>UN Secretary-General Antonio Guterres urged th...</td>\n",
       "    </tr>\n",
       "    <tr>\n",
       "      <th>1</th>\n",
       "      <td>89542</td>\n",
       "      <td>NaN</td>\n",
       "      <td>Prtimes.jp</td>\n",
       "      <td>NaN</td>\n",
       "      <td>RANDEBOOよりワンランク上の大人っぽさが漂うニットとベストが新登場。</td>\n",
       "      <td>[株式会社Ainer]\\nRANDEBOO（ランデブー）では2023年7月18日(火)より公...</td>\n",
       "      <td>https://prtimes.jp/main/html/rd/p/000000147.00...</td>\n",
       "      <td>https://prtimes.jp/i/32220/147/ogp/d32220-147-...</td>\n",
       "      <td>2023-10-06 04:40:02.000000</td>\n",
       "      <td>RANDEBOO2023718()WEB2023 Autumn Winter \\n\"Nepa...</td>\n",
       "      <td>Nepal</td>\n",
       "      <td>NaN</td>\n",
       "    </tr>\n",
       "    <tr>\n",
       "      <th>2</th>\n",
       "      <td>89543</td>\n",
       "      <td>NaN</td>\n",
       "      <td>VOA News</td>\n",
       "      <td>webdesk@voanews.com (Agence France-Presse)</td>\n",
       "      <td>UN Chief Urges World to 'Stop the Madness' of ...</td>\n",
       "      <td>UN Secretary-General Antonio Guterres urged th...</td>\n",
       "      <td>https://www.voanews.com/a/un-chief-urges-world...</td>\n",
       "      <td>https://gdb.voanews.com/01000000-0a00-0242-60f...</td>\n",
       "      <td>2023-10-30 10:53:30.000000</td>\n",
       "      <td>Kathmandu, Nepal  UN Secretary-General Antonio...</td>\n",
       "      <td>Nepal</td>\n",
       "      <td>NaN</td>\n",
       "    </tr>\n",
       "    <tr>\n",
       "      <th>3</th>\n",
       "      <td>89545</td>\n",
       "      <td>NaN</td>\n",
       "      <td>The Indian Express</td>\n",
       "      <td>Editorial</td>\n",
       "      <td>Sikkim warning: Hydroelectricity push must be ...</td>\n",
       "      <td>Ecologists caution against the adverse effects...</td>\n",
       "      <td>https://indianexpress.com/article/opinion/edit...</td>\n",
       "      <td>https://images.indianexpress.com/2023/10/edit-...</td>\n",
       "      <td>2023-10-06 01:20:24.000000</td>\n",
       "      <td>At least 14 persons lost their lives and more ...</td>\n",
       "      <td>Nepal</td>\n",
       "      <td>At least 14 persons lost their lives and more ...</td>\n",
       "    </tr>\n",
       "    <tr>\n",
       "      <th>4</th>\n",
       "      <td>89547</td>\n",
       "      <td>NaN</td>\n",
       "      <td>The Times of Israel</td>\n",
       "      <td>Jacob Magid</td>\n",
       "      <td>200 foreigners, dual nationals cut down in Ham...</td>\n",
       "      <td>France lost 35 citizens, Thailand 33, US 31, U...</td>\n",
       "      <td>https://www.timesofisrael.com/200-foreigners-d...</td>\n",
       "      <td>https://static.timesofisrael.com/www/uploads/2...</td>\n",
       "      <td>2023-10-27 01:08:34.000000</td>\n",
       "      <td>Scores of foreign citizens were killed, taken ...</td>\n",
       "      <td>Nepal</td>\n",
       "      <td>NaN</td>\n",
       "    </tr>\n",
       "  </tbody>\n",
       "</table>\n",
       "</div>"
      ],
      "text/plain": [
       "   article_id source_id                   source_name  \\\n",
       "0       89541       NaN  International Business Times   \n",
       "1       89542       NaN                    Prtimes.jp   \n",
       "2       89543       NaN                      VOA News   \n",
       "3       89545       NaN            The Indian Express   \n",
       "4       89547       NaN           The Times of Israel   \n",
       "\n",
       "                                       author  \\\n",
       "0                              Paavan MATHEMA   \n",
       "1                                         NaN   \n",
       "2  webdesk@voanews.com (Agence France-Presse)   \n",
       "3                                   Editorial   \n",
       "4                                 Jacob Magid   \n",
       "\n",
       "                                               title  \\\n",
       "0  UN Chief Urges World To 'Stop The Madness' Of ...   \n",
       "1              RANDEBOOよりワンランク上の大人っぽさが漂うニットとベストが新登場。   \n",
       "2  UN Chief Urges World to 'Stop the Madness' of ...   \n",
       "3  Sikkim warning: Hydroelectricity push must be ...   \n",
       "4  200 foreigners, dual nationals cut down in Ham...   \n",
       "\n",
       "                                         description  \\\n",
       "0  UN Secretary-General Antonio Guterres urged th...   \n",
       "1  [株式会社Ainer]\\nRANDEBOO（ランデブー）では2023年7月18日(火)より公...   \n",
       "2  UN Secretary-General Antonio Guterres urged th...   \n",
       "3  Ecologists caution against the adverse effects...   \n",
       "4  France lost 35 citizens, Thailand 33, US 31, U...   \n",
       "\n",
       "                                                 url  \\\n",
       "0  https://www.ibtimes.com/un-chief-urges-world-s...   \n",
       "1  https://prtimes.jp/main/html/rd/p/000000147.00...   \n",
       "2  https://www.voanews.com/a/un-chief-urges-world...   \n",
       "3  https://indianexpress.com/article/opinion/edit...   \n",
       "4  https://www.timesofisrael.com/200-foreigners-d...   \n",
       "\n",
       "                                        url_to_image  \\\n",
       "0  https://d.ibtimes.com/en/full/4496078/nepals-g...   \n",
       "1  https://prtimes.jp/i/32220/147/ogp/d32220-147-...   \n",
       "2  https://gdb.voanews.com/01000000-0a00-0242-60f...   \n",
       "3  https://images.indianexpress.com/2023/10/edit-...   \n",
       "4  https://static.timesofisrael.com/www/uploads/2...   \n",
       "\n",
       "                 published_at  \\\n",
       "0  2023-10-30 10:12:35.000000   \n",
       "1  2023-10-06 04:40:02.000000   \n",
       "2  2023-10-30 10:53:30.000000   \n",
       "3  2023-10-06 01:20:24.000000   \n",
       "4  2023-10-27 01:08:34.000000   \n",
       "\n",
       "                                             content category  \\\n",
       "0  UN Secretary-General Antonio Guterres urged th...    Nepal   \n",
       "1  RANDEBOO2023718()WEB2023 Autumn Winter \\n\"Nepa...    Nepal   \n",
       "2  Kathmandu, Nepal  UN Secretary-General Antonio...    Nepal   \n",
       "3  At least 14 persons lost their lives and more ...    Nepal   \n",
       "4  Scores of foreign citizens were killed, taken ...    Nepal   \n",
       "\n",
       "                                        full_content  \n",
       "0  UN Secretary-General Antonio Guterres urged th...  \n",
       "1                                                NaN  \n",
       "2                                                NaN  \n",
       "3  At least 14 persons lost their lives and more ...  \n",
       "4                                                NaN  "
      ]
     },
     "execution_count": 5,
     "metadata": {},
     "output_type": "execute_result"
    }
   ],
   "source": [
    "data.head()"
   ]
  },
  {
   "cell_type": "code",
   "execution_count": 9,
   "metadata": {},
   "outputs": [
    {
     "name": "stdout",
     "output_type": "stream",
     "text": [
      "Index(['SourceCommonName', 'location', 'Country'], dtype='object')\n"
     ]
    }
   ],
   "source": [
    "domains_location_column_names = domains_location.columns\n",
    "print(domains_location_column_names)"
   ]
  },
  {
   "cell_type": "code",
   "execution_count": 10,
   "metadata": {},
   "outputs": [
    {
     "name": "stdout",
     "output_type": "stream",
     "text": [
      "Index(['article_id', 'source_id', 'source_name', 'author', 'title',\n",
      "       'description', 'url', 'url_to_image', 'published_at', 'content',\n",
      "       'category', 'article', 'title_sentiment'],\n",
      "      dtype='object')\n"
     ]
    }
   ],
   "source": [
    "rating_column_names = rating.columns\n",
    "print(rating_column_names)"
   ]
  },
  {
   "cell_type": "code",
   "execution_count": 11,
   "metadata": {},
   "outputs": [
    {
     "name": "stdout",
     "output_type": "stream",
     "text": [
      "Index(['article_id', 'source_id', 'source_name', 'author', 'title',\n",
      "       'description', 'url', 'url_to_image', 'published_at', 'content',\n",
      "       'category'],\n",
      "      dtype='object')\n"
     ]
    }
   ],
   "source": [
    "raw_data_column_names = raw_data.columns\n",
    "print(raw_data_column_names)"
   ]
  },
  {
   "cell_type": "code",
   "execution_count": 13,
   "metadata": {},
   "outputs": [
    {
     "name": "stdout",
     "output_type": "stream",
     "text": [
      "Index(['GlobalRank', 'TldRank', 'Domain', 'TLD', 'RefSubNets', 'RefIPs',\n",
      "       'IDN_Domain', 'IDN_TLD', 'PrevGlobalRank', 'PrevTldRank',\n",
      "       'PrevRefSubNets', 'PrevRefIPs'],\n",
      "      dtype='object')\n"
     ]
    }
   ],
   "source": [
    "traffic_column_names = traffic.columns\n",
    "print(traffic_column_names)"
   ]
  },
  {
   "cell_type": "code",
   "execution_count": null,
   "metadata": {},
   "outputs": [],
   "source": [
    "raw_data.head()"
   ]
  },
  {
   "cell_type": "code",
   "execution_count": null,
   "metadata": {},
   "outputs": [],
   "source": [
    "traffic.head()"
   ]
  },
  {
   "cell_type": "code",
   "execution_count": null,
   "metadata": {},
   "outputs": [],
   "source": [
    "domains_location.head()"
   ]
  },
  {
   "cell_type": "markdown",
   "metadata": {},
   "source": [
    "## Top 10 websites that have the largest count of news articles\n"
   ]
  },
  {
   "cell_type": "code",
   "execution_count": 13,
   "metadata": {},
   "outputs": [
    {
     "name": "stdout",
     "output_type": "stream",
     "text": [
      "source_name\n",
      "ETF Daily News        16631\n",
      "The Times of India     7629\n",
      "GlobeNewswire          5485\n",
      "Forbes                 4423\n",
      "Biztoc.com             3968\n",
      "BBC News               3342\n",
      "Globalsecurity.org     3093\n",
      "Business Insider       2746\n",
      "ABC News               2188\n",
      "Marketscreener.com     1948\n",
      "Name: count, dtype: int64\n"
     ]
    }
   ],
   "source": [

    "top_10_largest_count = traffic['IDN_Domain'].value_counts().head(10)\n",
    "print(top_10_largest_count)"
   ]
  },
  {
   "cell_type": "code",
   "execution_count": 15,
   "metadata": {},
   "outputs": [
    {
     "data": {
      "image/png": "[encoded data removed]",
      "text/plain": [
       "<Figure size 1000x600 with 1 Axes>"
      ]
     },
     "metadata": {},
     "output_type": "display_data"
    }
   ],
   "source": [
    "top_10_largest_count_df = top_10_largest_count.reset_index()\n",
    "top_10_largest_count_df.columns = ['source_name', 'count']\n",
    "\n",
    "# Plotting\n",
    "plt.figure(figsize=(10, 6)) # Adjust the figure size as needed\n",
    "plt.barh(top_10_largest_count_df['source_name'], top_10_largest_count_df['count'], color='skyblue')\n",
    "plt.xlabel('Count of News Articles')\n",
    "plt.ylabel('Source Name')\n",
    "plt.title('Top 10 Sources with the Largest Count of News Articles')\n",
    "plt.show()"
   ]
  },
  {
   "cell_type": "markdown",
   "metadata": {},
   "source": [
    "## Bottom 10 websites that have the smallest count of news articles"
   ]
  },
  {
   "cell_type": "code",
   "execution_count": 9,
   "metadata": {},
   "outputs": [
    {
     "name": "stdout",
     "output_type": "stream",
     "text": [
      "source_name\n",
      "Omnigroup.com            1\n",
      "Fresno Bee               1\n",
      "Cs.ru.nl                 1\n",
      "Labnol.org               1\n",
      "Theedgemalaysia.com      1\n",
      "Schwab.com               1\n",
      "Amd.com                  1\n",
      "Bubbyandbean.com         1\n",
      "Thriftydecorchick.com    1\n",
      "Phpclasses.org           1\n",
      "Name: count, dtype: int64\n"
     ]
    }
   ],
   "source": [
    "bottom_10_largest_count = data['source_name'].value_counts(ascending=True).head(10)\n",
    "print(bottom_10_largest_count)"
   ]
  },
  {
   "cell_type": "code",
   "execution_count": 14,
   "metadata": {},
   "outputs": [
    {
     "name": "stdout",
     "output_type": "stream",
     "text": [
      "IDN_Domain\n",
      "google.com               1\n",
      "boardroomsecrets.info    1\n",
      "temat24.co.pl            1\n",
      "ip-tv.rs                 1\n",
      "i-camsystems.co.uk       1\n",
      "lavery.ca                1\n",
      "manulife-insurance.ca    1\n",
      "indiahospitality.cf      1\n",
      "cspiii.com               1\n",
      "dark0de-markets.com      1\n",
      "Name: count, dtype: int64\n"
     ]
    }
   ],
   "source": [
    "top_10_largest_count = traffic['IDN_Domain'].value_counts().head(10)\n",
    "print(top_10_largest_count)"
   ]
  },
  {
   "cell_type": "code",
   "execution_count": 11,
   "metadata": {},
   "outputs": [
    {
     "name": "stdout",
     "output_type": "stream",
     "text": [
      "category\n",
      "Stock          3999\n",
      "Health         2594\n",
      "Finance        2402\n",
      "Technology     2371\n",
      "Real estate    2352\n",
      "Canada         2324\n",
      "News           1852\n",
      "COVID          1821\n",
      "Education      1771\n",
      "Food           1613\n",
      "Name: count, dtype: int64\n"
     ]
    }
   ],
   "source": [
    "top_10_largest_count = data['category'].value_counts().head(10)\n",
    "print(top_10_largest_count)"
   ]
  },
  {
   "cell_type": "markdown",
   "metadata": {},
   "source": [
    "## Top 10 with the highest count of positive, neutral, and negative sentiment"
   ]
  },
  {
   "cell_type": "code",
   "execution_count": 14,
   "metadata": {},
   "outputs": [
    {
     "name": "stdout",
     "output_type": "stream",
     "text": [
      "Top 10 Websites with Highest Mean for Positive Title Sentiment:\n",
      "source_name\n",
      "The Times of India    1145.0\n",
      "ETF Daily News         992.0\n",
      "GlobeNewswire          905.0\n",
      "Forbes                 635.0\n",
      "Digital Trends         406.0\n",
      "Android Central        272.0\n",
      "Business Insider       237.0\n",
      "Boing Boing            170.0\n",
      "Marketscreener.com     153.0\n",
      "Phys.Org               143.0\n",
      "dtype: float64\n",
      "\n",
      "Top 10 Websites with Highest Mean for Neutral Title Sentiment:\n",
      "source_name\n",
      "ETF Daily News        15194.0\n",
      "The Times of India     5149.0\n",
      "GlobeNewswire          4491.0\n",
      "Globalsecurity.org     2255.0\n",
      "Forbes                 1933.0\n",
      "The Punch              1229.0\n",
      "ABC News               1193.0\n",
      "BBC News               1185.0\n",
      "Marketscreener.com     1167.0\n",
      "Al Jazeera English      927.0\n",
      "dtype: float64\n",
      "\n",
      "Top 10 Websites with Highest Mean for Negative Title Sentiment:\n",
      "source_name\n",
      "The Times of India              1210.0\n",
      "Business Insider                 890.0\n",
      "BBC News                         854.0\n",
      "Globalsecurity.org               747.0\n",
      "ABC News                         726.0\n",
      "Al Jazeera English               706.0\n",
      "ETF Daily News                   560.0\n",
      "The Punch                        455.0\n",
      "RT                               403.0\n",
      "International Business Times     319.0\n",
      "dtype: float64\n"
     ]
    }
   ],
   "source": [
    "# Group data by 'source_name' and 'title_sentiment'\n",
    "grouped_data = rating.groupby(['source_name', 'title_sentiment']).size()\n",
    "\n",
    "# Calculate mean for each 'source_name' and 'title_sentiment' group\n",
    "mean_statistics = grouped_data.groupby(['source_name', 'title_sentiment']).mean()\n",
    "\n",
    "# Get the top 10 websites with the highest mean for positive title sentiment\n",
    "top_positive_websites = mean_statistics.loc[(slice(None), 'Positive')].nlargest(10)\n",
    "\n",
    "# Get the top 10 websites with the highest mean for neutral title sentiment\n",
    "top_neutral_websites = mean_statistics.loc[(slice(None), 'Neutral')].nlargest(10)\n",
    "\n",
    "# Get the top 10 websites with the highest mean for negative title sentiment\n",
    "top_negative_websites = mean_statistics.loc[(slice(None), 'Negative')].nlargest(10)\n",
    "\n",
    "# Print the top 10 websites based on mean for positive title sentiment\n",
    "print(\"Top 10 Websites with Highest Mean for Positive Title Sentiment:\")\n",
    "print(top_positive_websites)\n",
    "print()\n",
    "\n",
    "# Print the top 10 websites based on mean for neutral title sentiment\n",
    "print(\"Top 10 Websites with Highest Mean for Neutral Title Sentiment:\")\n",
    "print(top_neutral_websites)\n",
    "print()\n",
    "\n",
    "# Print the top 10 websites based on mean for negative title sentiment\n",
    "print(\"Top 10 Websites with Highest Mean for Negative Title Sentiment:\")\n",
    "print(top_negative_websites)"
   ]
  },
  {
   "cell_type": "markdown",
   "metadata": {},
   "source": [
    "## Bottom 10 with the lowest count of positive, neutral, and negative sentiment"
   ]
  },
  {
   "cell_type": "code",
   "execution_count": 20,
   "metadata": {},
   "outputs": [
    {
     "name": "stdout",
     "output_type": "stream",
     "text": [
      "Bottom 10 Websites with Lowest Mean for Positive Title Sentiment:\n",
      "source_name\n",
      "Euronews                        15.0\n",
      "CNN                             23.0\n",
      "RT                              27.0\n",
      "Al Jazeera English              31.0\n",
      "Time                            33.0\n",
      "International Business Times    44.0\n",
      "Deadline                        54.0\n",
      "Gizmodo.com                     59.0\n",
      "The Verge                       61.0\n",
      "Wired                           67.0\n",
      "dtype: float64\n",
      "\n",
      "Bottom 10 Websites with Lowest Mean for Neutral Title Sentiment:\n",
      "source_name\n",
      "AllAfrica - Top Africa News     12.0\n",
      "The Verge                      118.0\n",
      "Wired                          138.0\n",
      "CNN                            142.0\n",
      "Euronews                       157.0\n",
      "Android Central                212.0\n",
      "ReadWrite                      216.0\n",
      "Gizmodo.com                    253.0\n",
      "Boing Boing                    293.0\n",
      "Digital Trends                 335.0\n",
      "dtype: float64\n",
      "\n",
      "Bottom 10 Websites with Lowest Mean for Negative Title Sentiment:\n",
      "source_name\n",
      "AllAfrica - Top Africa News     8.0\n",
      "GlobeNewswire                  27.0\n",
      "The Verge                      35.0\n",
      "Android Central                38.0\n",
      "ReadWrite                      38.0\n",
      "Marketscreener.com             42.0\n",
      "Digital Trends                 43.0\n",
      "Wired                          65.0\n",
      "Gizmodo.com                    76.0\n",
      "Deadline                       84.0\n",
      "dtype: float64\n"
     ]
    },
    {
     "data": {
      "image/png": "[encoded data removed]",
      "text/plain": [
       "<Figure size 1000x600 with 1 Axes>"
      ]
     },
     "metadata": {},
     "output_type": "display_data"
    }
   ],
   "source": [
    "# Group data by 'source_name' and 'title_sentiment'\n",
    "grouped_data = rating.groupby(['source_name', 'title_sentiment']).size()\n",
    "\n",
    "# Calculate mean for each 'source_name' and 'title_sentiment' group\n",
    "mean_statistics = grouped_data.groupby(['source_name', 'title_sentiment']).mean()\n",
    "\n",
    "# Get the bottom 10 websites with the lowest mean for positive title sentiment\n",
    "bottom_positive_websites = mean_statistics.loc[(slice(None), 'Positive')].nsmallest(10)\n",
    "\n",
    "# Get the bottom 10 websites with the lowest mean for neutral title sentiment\n",
    "bottom_neutral_websites = mean_statistics.loc[(slice(None), 'Neutral')].nsmallest(10)\n",
    "\n",
    "# Get the bottom 10 websites with the lowest mean for negative title sentiment\n",
    "bottom_negative_websites = mean_statistics.loc[(slice(None), 'Negative')].nsmallest(10)\n",
    "\n",
    "# Print the bottom 10 websites based on mean for positive title sentiment\n",
    "print(\"Bottom 10 Websites with Lowest Mean for Positive Title Sentiment:\")\n",
    "print(bottom_positive_websites)\n",
    "print()\n",
    "\n",
    "# Print the bottom 10 websites based on mean for neutral title sentiment\n",
    "print(\"Bottom 10 Websites with Lowest Mean for Neutral Title Sentiment:\")\n",
    "print(bottom_neutral_websites)\n",
    "print()\n",
    "\n",
    "# Print the bottom 10 websites based on mean for negative title sentiment\n",
    "print(\"Bottom 10 Websites with Lowest Mean for Negative Title Sentiment:\")\n",
    "print(bottom_negative_websites)\n",
    "\n",
    "# Convert each Series to a DataFrame and rename the column\n",
    "bottom_positive_websites_df = bottom_positive_websites.to_frame(name='Positive')\n",
    "bottom_neutral_websites_df = bottom_neutral_websites.to_frame(name='Neutral')\n",
    "bottom_negative_websites_df = bottom_negative_websites.to_frame(name='Negative')\n",
    "\n",
    "# Combine the data into a single DataFrame\n",
    "combined_data = pd.concat([\n",
    "    bottom_positive_websites_df,\n",
    "    bottom_neutral_websites_df,\n",
    "    bottom_negative_websites_df\n",
    "], axis=1)\n",
    "\n",
    "# Fill NaN values with 0 (assuming you want to plot these as well)\n",
    "combined_data.fillna(0, inplace=True)\n",
    "\n",
    "# Plotting\n",
    "plt.figure(figsize=(10, 6)) # Adjust the figure size as needed\n",
    "plt.scatter(combined_data.index, combined_data['Positive'], color='green', label='Positive')\n",
    "plt.scatter(combined_data.index, combined_data['Neutral'], color='blue', label='Neutral')\n",
    "plt.scatter(combined_data.index, combined_data['Negative'], color='red', label='Negative')\n",
    "plt.xlabel('Website Index')\n",
    "plt.ylabel('Mean Sentiment Score')\n",
    "plt.title('Mean Sentiment Scores for Bottom 10 Websites')\n",
    "plt.legend()\n",
    "plt.show()"
   ]
  },
  {
   "cell_type": "markdown",
   "metadata": {},
   "source": [
    "##Top 10 Websites with the highest numbers of visitors traffic"
   ]
  },
  {
   "cell_type": "code",
   "execution_count": 6,
   "metadata": {},
   "outputs": [
    {
     "name": "stdout",
     "output_type": "stream",
     "text": [
      "source_name\n",
      "The Times of India             135680860.0\n",
      "Time                            80895760.0\n",
      "Phys.Org                        62844240.0\n",
      "The Indian Express              47347784.0\n",
      "Deadline                        40268070.0\n",
      "Gizmodo.com                     26419200.0\n",
      "New York Post                   25782390.0\n",
      "Boing Boing                     20997864.0\n",
      "The Punch                       19423794.0\n",
      "AllAfrica - Top Africa News     18500757.0\n",
      "Name: RefIPs, dtype: float64\n"
     ]
    }
   ],
   "source": [
    "# Parsing 'url' in 'data' and adding as 'Domain'\n",
    "data['Domain'] = data['url'].apply(lambda x: parse_url(x).netloc)\n",
    "\n",
    "# Merging 'data' and 'traffic' datasets\n",
    "merged_df = pd.merge(data, traffic, left_on='Domain', right_on='Domain', how='left')\n",
    "\n",
    "# Group by 'source_name' and sum the traffic metrics (e.g., 'RefIPs')\n",
    "most_visited_news_sites = merged_df.groupby('source_name')['RefIPs'].sum().sort_values(ascending=False)\n",
    "\n",
    "\n",
    "# Print the top 10 news sites with the highest traffic\n",
    "print(most_visited_news_sites.head(10))"
   ]
  }
 ],
 "metadata": {
  "kernelspec": {
   "display_name": "myenv",
   "language": "python",
   "name": "python3"
  },
  "language_info": {
   "codemirror_mode": {
    "name": "ipython",
    "version": 3
   },
   "file_extension": ".py",
   "mimetype": "text/x-python",
   "name": "python",
   "nbconvert_exporter": "python",
   "pygments_lexer": "ipython3",
   "version": "3.10.12"
  }
 },
 "nbformat": 4,
 "nbformat_minor": 2
}
