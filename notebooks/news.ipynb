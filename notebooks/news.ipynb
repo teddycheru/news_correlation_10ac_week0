{
 "cells": [
  {
   "cell_type": "code",
   "execution_count": 2,
   "metadata": {},
   "outputs": [],
   "source": [
    "import pandas as pd\n",
    "\n",
    "# Specify the path to the CSV file\n",
    "csv_file_path = '../data/data.csv'\n",
    "\n",
    "# Load the CSV file into a DataFrame\n",
    "df = pd.read_csv(csv_file_path)\n",
    "\n",
    "# Display the DataFrame\n",
    "# print(df)"
   ]
  },
  {
   "cell_type": "code",
   "execution_count": 3,
   "metadata": {},
   "outputs": [
    {
     "data": {
      "text/html": [
       "<div>\n",
       "<style scoped>\n",
       "    .dataframe tbody tr th:only-of-type {\n",
       "        vertical-align: middle;\n",
       "    }\n",
       "\n",
       "    .dataframe tbody tr th {\n",
       "        vertical-align: top;\n",
       "    }\n",
       "\n",
       "    .dataframe thead th {\n",
       "        text-align: right;\n",
       "    }\n",
       "</style>\n",
       "<table border=\"1\" class=\"dataframe\">\n",
       "  <thead>\n",
       "    <tr style=\"text-align: right;\">\n",
       "      <th></th>\n",
       "      <th>article_id</th>\n",
       "      <th>source_id</th>\n",
       "      <th>source_name</th>\n",
       "      <th>author</th>\n",
       "      <th>title</th>\n",
       "      <th>description</th>\n",
       "      <th>url</th>\n",
       "      <th>url_to_image</th>\n",
       "      <th>published_at</th>\n",
       "      <th>content</th>\n",
       "      <th>category</th>\n",
       "      <th>full_content</th>\n",
       "    </tr>\n",
       "  </thead>\n",
       "  <tbody>\n",
       "    <tr>\n",
       "      <th>0</th>\n",
       "      <td>89541</td>\n",
       "      <td>NaN</td>\n",
       "      <td>International Business Times</td>\n",
       "      <td>Paavan MATHEMA</td>\n",
       "      <td>UN Chief Urges World To 'Stop The Madness' Of ...</td>\n",
       "      <td>UN Secretary-General Antonio Guterres urged th...</td>\n",
       "      <td>https://www.ibtimes.com/un-chief-urges-world-s...</td>\n",
       "      <td>https://d.ibtimes.com/en/full/4496078/nepals-g...</td>\n",
       "      <td>2023-10-30 10:12:35.000000</td>\n",
       "      <td>UN Secretary-General Antonio Guterres urged th...</td>\n",
       "      <td>Nepal</td>\n",
       "      <td>UN Secretary-General Antonio Guterres urged th...</td>\n",
       "    </tr>\n",
       "    <tr>\n",
       "      <th>1</th>\n",
       "      <td>89542</td>\n",
       "      <td>NaN</td>\n",
       "      <td>Prtimes.jp</td>\n",
       "      <td>NaN</td>\n",
       "      <td>RANDEBOOよりワンランク上の大人っぽさが漂うニットとベストが新登場。</td>\n",
       "      <td>[株式会社Ainer]\\nRANDEBOO（ランデブー）では2023年7月18日(火)より公...</td>\n",
       "      <td>https://prtimes.jp/main/html/rd/p/000000147.00...</td>\n",
       "      <td>https://prtimes.jp/i/32220/147/ogp/d32220-147-...</td>\n",
       "      <td>2023-10-06 04:40:02.000000</td>\n",
       "      <td>RANDEBOO2023718()WEB2023 Autumn Winter \\n\"Nepa...</td>\n",
       "      <td>Nepal</td>\n",
       "      <td>NaN</td>\n",
       "    </tr>\n",
       "    <tr>\n",
       "      <th>2</th>\n",
       "      <td>89543</td>\n",
       "      <td>NaN</td>\n",
       "      <td>VOA News</td>\n",
       "      <td>webdesk@voanews.com (Agence France-Presse)</td>\n",
       "      <td>UN Chief Urges World to 'Stop the Madness' of ...</td>\n",
       "      <td>UN Secretary-General Antonio Guterres urged th...</td>\n",
       "      <td>https://www.voanews.com/a/un-chief-urges-world...</td>\n",
       "      <td>https://gdb.voanews.com/01000000-0a00-0242-60f...</td>\n",
       "      <td>2023-10-30 10:53:30.000000</td>\n",
       "      <td>Kathmandu, Nepal  UN Secretary-General Antonio...</td>\n",
       "      <td>Nepal</td>\n",
       "      <td>NaN</td>\n",
       "    </tr>\n",
       "    <tr>\n",
       "      <th>3</th>\n",
       "      <td>89545</td>\n",
       "      <td>NaN</td>\n",
       "      <td>The Indian Express</td>\n",
       "      <td>Editorial</td>\n",
       "      <td>Sikkim warning: Hydroelectricity push must be ...</td>\n",
       "      <td>Ecologists caution against the adverse effects...</td>\n",
       "      <td>https://indianexpress.com/article/opinion/edit...</td>\n",
       "      <td>https://images.indianexpress.com/2023/10/edit-...</td>\n",
       "      <td>2023-10-06 01:20:24.000000</td>\n",
       "      <td>At least 14 persons lost their lives and more ...</td>\n",
       "      <td>Nepal</td>\n",
       "      <td>At least 14 persons lost their lives and more ...</td>\n",
       "    </tr>\n",
       "    <tr>\n",
       "      <th>4</th>\n",
       "      <td>89547</td>\n",
       "      <td>NaN</td>\n",
       "      <td>The Times of Israel</td>\n",
       "      <td>Jacob Magid</td>\n",
       "      <td>200 foreigners, dual nationals cut down in Ham...</td>\n",
       "      <td>France lost 35 citizens, Thailand 33, US 31, U...</td>\n",
       "      <td>https://www.timesofisrael.com/200-foreigners-d...</td>\n",
       "      <td>https://static.timesofisrael.com/www/uploads/2...</td>\n",
       "      <td>2023-10-27 01:08:34.000000</td>\n",
       "      <td>Scores of foreign citizens were killed, taken ...</td>\n",
       "      <td>Nepal</td>\n",
       "      <td>NaN</td>\n",
       "    </tr>\n",
       "  </tbody>\n",
       "</table>\n",
       "</div>"
      ],
      "text/plain": [
       "   article_id source_id                   source_name  \\\n",
       "0       89541       NaN  International Business Times   \n",
       "1       89542       NaN                    Prtimes.jp   \n",
       "2       89543       NaN                      VOA News   \n",
       "3       89545       NaN            The Indian Express   \n",
       "4       89547       NaN           The Times of Israel   \n",
       "\n",
       "                                       author  \\\n",
       "0                              Paavan MATHEMA   \n",
       "1                                         NaN   \n",
       "2  webdesk@voanews.com (Agence France-Presse)   \n",
       "3                                   Editorial   \n",
       "4                                 Jacob Magid   \n",
       "\n",
       "                                               title  \\\n",
       "0  UN Chief Urges World To 'Stop The Madness' Of ...   \n",
       "1              RANDEBOOよりワンランク上の大人っぽさが漂うニットとベストが新登場。   \n",
       "2  UN Chief Urges World to 'Stop the Madness' of ...   \n",
       "3  Sikkim warning: Hydroelectricity push must be ...   \n",
       "4  200 foreigners, dual nationals cut down in Ham...   \n",
       "\n",
       "                                         description  \\\n",
       "0  UN Secretary-General Antonio Guterres urged th...   \n",
       "1  [株式会社Ainer]\\nRANDEBOO（ランデブー）では2023年7月18日(火)より公...   \n",
       "2  UN Secretary-General Antonio Guterres urged th...   \n",
       "3  Ecologists caution against the adverse effects...   \n",
       "4  France lost 35 citizens, Thailand 33, US 31, U...   \n",
       "\n",
       "                                                 url  \\\n",
       "0  https://www.ibtimes.com/un-chief-urges-world-s...   \n",
       "1  https://prtimes.jp/main/html/rd/p/000000147.00...   \n",
       "2  https://www.voanews.com/a/un-chief-urges-world...   \n",
       "3  https://indianexpress.com/article/opinion/edit...   \n",
       "4  https://www.timesofisrael.com/200-foreigners-d...   \n",
       "\n",
       "                                        url_to_image  \\\n",
       "0  https://d.ibtimes.com/en/full/4496078/nepals-g...   \n",
       "1  https://prtimes.jp/i/32220/147/ogp/d32220-147-...   \n",
       "2  https://gdb.voanews.com/01000000-0a00-0242-60f...   \n",
       "3  https://images.indianexpress.com/2023/10/edit-...   \n",
       "4  https://static.timesofisrael.com/www/uploads/2...   \n",
       "\n",
       "                 published_at  \\\n",
       "0  2023-10-30 10:12:35.000000   \n",
       "1  2023-10-06 04:40:02.000000   \n",
       "2  2023-10-30 10:53:30.000000   \n",
       "3  2023-10-06 01:20:24.000000   \n",
       "4  2023-10-27 01:08:34.000000   \n",
       "\n",
       "                                             content category  \\\n",
       "0  UN Secretary-General Antonio Guterres urged th...    Nepal   \n",
       "1  RANDEBOO2023718()WEB2023 Autumn Winter \\n\"Nepa...    Nepal   \n",
       "2  Kathmandu, Nepal  UN Secretary-General Antonio...    Nepal   \n",
       "3  At least 14 persons lost their lives and more ...    Nepal   \n",
       "4  Scores of foreign citizens were killed, taken ...    Nepal   \n",
       "\n",
       "                                        full_content  \n",
       "0  UN Secretary-General Antonio Guterres urged th...  \n",
       "1                                                NaN  \n",
       "2                                                NaN  \n",
       "3  At least 14 persons lost their lives and more ...  \n",
       "4                                                NaN  "
      ]
     },
     "execution_count": 3,
     "metadata": {},
     "output_type": "execute_result"
    }
   ],
   "source": [
    "df.head()"
   ]
  },
  {
   "cell_type": "code",
   "execution_count": 4,
   "metadata": {},
   "outputs": [
    {
     "name": "stdout",
     "output_type": "stream",
     "text": [
      "Index(['article_id', 'source_id', 'source_name', 'author', 'title',\n",
      "       'description', 'url', 'url_to_image', 'published_at', 'content',\n",
      "       'category', 'full_content'],\n",
      "      dtype='object')\n"
     ]
    }
   ],
   "source": [
    "column_names = df.columns\n",
    "print(column_names)"
   ]
  },
  {
   "cell_type": "code",
   "execution_count": 5,
   "metadata": {},
   "outputs": [
    {
     "name": "stdout",
     "output_type": "stream",
     "text": [
      "(105375, 12)\n"
     ]
    }
   ],
   "source": [
    "column_size = df.shape\n",
    "print(column_size)"
   ]
  },
  {
   "cell_type": "code",
   "execution_count": 6,
   "metadata": {},
   "outputs": [
    {
     "name": "stdout",
     "output_type": "stream",
     "text": [
      "The most frequent source_id is: the-times-of-india\n"
     ]
    }
   ],
   "source": [
    "# Assuming df is your DataFrame\n",
    "most_frequent_source_id = df['source_id'].value_counts().idxmax()\n",
    "print(f\"The most frequent source_id is: {most_frequent_source_id}\")"
   ]
  }
 ],
 "metadata": {
  "kernelspec": {
   "display_name": "myenv",
   "language": "python",
   "name": "python3"
  },
  "language_info": {
   "codemirror_mode": {
    "name": "ipython",
    "version": 3
   },
   "file_extension": ".py",
   "mimetype": "text/x-python",
   "name": "python",
   "nbconvert_exporter": "python",
   "pygments_lexer": "ipython3",
   "version": "3.10.12"
  }
 },
 "nbformat": 4,
 "nbformat_minor": 2
}
