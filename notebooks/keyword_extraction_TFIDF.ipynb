{
 "cells": [
  {
   "cell_type": "markdown",
   "metadata": {},
   "source": [
    "## Keyword extraction/modelling using TF-IDF - similarity of keywords in the title compared to keywords in the content"
   ]
  },
  {
   "cell_type": "code",
   "execution_count": 5,
   "metadata": {},
   "outputs": [
    {
     "name": "stdout",
     "output_type": "stream",
     "text": [
      "Document 1 similarity score: 0.7407877024184343\n",
      "Document 2 similarity score: 0.0\n",
      "Document 3 similarity score: 0.7407877024184343\n",
      "Document 4 similarity score: 0.0\n",
      "Document 5 similarity score: 0.04852504242187047\n",
      "Document 6 similarity score: 0.0\n",
      "Document 7 similarity score: 0.0\n",
      "Document 8 similarity score: 0.17199666563997495\n",
      "Document 9 similarity score: 0.08056357492893285\n",
      "Document 10 similarity score: 0.07105298873838882\n",
      "Document 11 similarity score: 0.08065517474314322\n",
      "Document 12 similarity score: 0.17575512027432502\n",
      "Document 13 similarity score: 0.0\n",
      "Document 14 similarity score: 0.0\n",
      "Document 15 similarity score: 0.0\n",
      "Document 16 similarity score: 0.26777424788281673\n",
      "Document 17 similarity score: 0.0\n",
      "Document 18 similarity score: 0.045389896455484094\n",
      "Document 19 similarity score: 0.030142546638211414\n",
      "Document 20 similarity score: 0.0\n",
      "Document 21 similarity score: 0.05137529943380126\n",
      "Document 22 similarity score: 0.06224275385247769\n",
      "Document 23 similarity score: 0.0\n",
      "Document 24 similarity score: 0.0\n",
      "Document 25 similarity score: 0.1275289950806462\n",
      "Document 26 similarity score: 0.0\n",
      "Document 27 similarity score: 0.03692310377503931\n",
      "Document 28 similarity score: 0.0\n",
      "Document 29 similarity score: 0.04883529465093927\n",
      "Document 30 similarity score: 0.1253925455289911\n",
      "Document 31 similarity score: 0.0488210962626533\n",
      "Document 32 similarity score: 0.0\n",
      "Document 33 similarity score: 0.08773744941208156\n",
      "Document 34 similarity score: 0.0\n",
      "Document 35 similarity score: 0.0\n",
      "Document 36 similarity score: 0.04167137884075485\n",
      "Document 37 similarity score: 0.0\n",
      "Document 38 similarity score: 0.042929683338800734\n",
      "Document 39 similarity score: 0.06618570640609767\n",
      "Document 40 similarity score: 0.1850852122335751\n",
      "Document 41 similarity score: 0.0\n",
      "Document 42 similarity score: 0.0\n",
      "Document 43 similarity score: 0.0\n",
      "Document 44 similarity score: 0.0\n",
      "Document 45 similarity score: 0.0\n",
      "Document 46 similarity score: 0.0\n",
      "Document 47 similarity score: 0.051439530662700475\n",
      "Document 48 similarity score: 0.0\n",
      "Document 49 similarity score: 0.0\n",
      "Document 50 similarity score: 0.0366305965685101\n",
      "Document 51 similarity score: 0.10155193327217646\n",
      "Document 52 similarity score: 0.04933335138240577\n",
      "Document 53 similarity score: 0.0\n",
      "Document 54 similarity score: 0.0\n",
      "Document 55 similarity score: 0.0\n",
      "Document 56 similarity score: 0.16269205548646745\n",
      "Document 57 similarity score: 0.17387374494918134\n",
      "Document 58 similarity score: 0.0\n",
      "Document 59 similarity score: 0.16538693515373987\n",
      "Document 60 similarity score: 0.15682908398445897\n",
      "Document 61 similarity score: 0.0\n",
      "Document 62 similarity score: 0.0\n",
      "Document 63 similarity score: 0.20117361555759772\n",
      "Document 64 similarity score: 0.0\n",
      "Document 65 similarity score: 0.0\n",
      "Document 66 similarity score: 0.0\n",
      "Document 67 similarity score: 0.1208203559051998\n",
      "Document 68 similarity score: 0.0\n",
      "Document 69 similarity score: 0.059610044865903745\n",
      "Document 70 similarity score: 0.0474438247422261\n",
      "Document 71 similarity score: 0.1954546453981128\n",
      "Document 72 similarity score: 0.18584913457826485\n",
      "Document 73 similarity score: 0.04840603368746445\n",
      "Document 74 similarity score: 0.0\n",
      "Document 75 similarity score: 0.0\n",
      "Document 76 similarity score: 0.0\n",
      "Document 77 similarity score: 0.03892644069526407\n",
      "Document 78 similarity score: 0.09473345800639937\n",
      "Document 79 similarity score: 0.0\n",
      "Document 80 similarity score: 0.0\n",
      "Document 81 similarity score: 0.060803250675400836\n",
      "Document 82 similarity score: 0.048760509853126806\n",
      "Document 83 similarity score: 0.0\n",
      "Document 84 similarity score: 0.0\n",
      "Document 85 similarity score: 0.0\n",
      "Document 86 similarity score: 0.26777424788281673\n",
      "Document 87 similarity score: 0.10992198931008901\n",
      "Document 88 similarity score: 0.067777394917298\n",
      "Document 89 similarity score: 0.0\n",
      "Document 90 similarity score: 0.0\n",
      "Document 91 similarity score: 0.1208203559051998\n",
      "Document 92 similarity score: 0.042949798492863\n",
      "Document 93 similarity score: 0.0\n",
      "Document 94 similarity score: 0.0\n",
      "Document 95 similarity score: 0.05081293443462305\n",
      "Document 96 similarity score: 0.2607365064104169\n",
      "Document 97 similarity score: 0.0\n",
      "Document 98 similarity score: 0.0\n",
      "Document 99 similarity score: 0.12844241394814926\n"
     ]
    },
    {
     "name": "stderr",
     "output_type": "stream",
     "text": [
      "/tmp/ipykernel_5095/3382382608.py:19: FutureWarning: A value is trying to be set on a copy of a DataFrame or Series through chained assignment using an inplace method.\n",
      "The behavior will change in pandas 3.0. This inplace method will never work because the intermediate object on which we are setting values always behaves as a copy.\n",
      "\n",
      "For example, when doing 'df[col].method(value, inplace=True)', try using 'df.method({col: value}, inplace=True)' or df[col] = df[col].method(value) instead, to perform the operation inplace on the original object.\n",
      "\n",
      "\n",
      "  mini_data['title'].fillna('', inplace=True)\n",
      "/tmp/ipykernel_5095/3382382608.py:20: FutureWarning: A value is trying to be set on a copy of a DataFrame or Series through chained assignment using an inplace method.\n",
      "The behavior will change in pandas 3.0. This inplace method will never work because the intermediate object on which we are setting values always behaves as a copy.\n",
      "\n",
      "For example, when doing 'df[col].method(value, inplace=True)', try using 'df.method({col: value}, inplace=True)' or df[col] = df[col].method(value) instead, to perform the operation inplace on the original object.\n",
      "\n",
      "\n",
      "  mini_data['content'].fillna('', inplace=True)\n"
     ]
    }
   ],
   "source": [
    "import sys\n",
    "sys.path.append('../')  # Add the parent directory to the module search path\n",
    "from src.loader import load_data\n",
    "from src.utils import parse_url\n",
    "import pandas as pd\n",
    "from sklearn.feature_extraction.text import TfidfVectorizer\n",
    "from sklearn.metrics.pairwise import cosine_similarity\n",
    "\n",
    "# Load the mini_data from CSV\n",
    "mini_data_file_path = '../data/mini_data.csv'\n",
    "mini_data = load_data(mini_data_file_path )\n",
    "\n",
    "\n",
    "# TF-IDF Vectorization\n",
    "# Create a TF-IDF vectorizer object\n",
    "vectorizer = TfidfVectorizer()\n",
    "\n",
    "# Replace missing values with empty strings\n",
    "mini_data['title'].fillna('', inplace=True)\n",
    "mini_data['content'].fillna('', inplace=True)\n",
    "\n",
    "# Apply the vectorizer on the headline/title and news body separately\n",
    "title_tfidf = vectorizer.fit_transform(mini_data['title'])\n",
    "content_tfidf = vectorizer.transform(mini_data['content'])\n",
    "\n",
    "# Step 4: Calculate cosine similarity\n",
    "# Compare the TF-IDF vectors of headline/title and news body\n",
    "similarity_scores = cosine_similarity(title_tfidf, content_tfidf)\n",
    "\n",
    "# Print the similarity scores\n",
    "for i, score in enumerate(similarity_scores):\n",
    "    print(f\"Document {i+1} similarity score: {score[0]}\")"
   ]
  },
  {
   "cell_type": "markdown",
   "metadata": {},
   "source": [
    "## Plot - Keyword Similarity Scores"
   ]
  },
  {
   "cell_type": "code",
   "execution_count": 7,
   "metadata": {},
   "outputs": [
    {
     "data": {
      "image/png": "[encoded data removed]",
      "text/plain": [
       "<Figure size 640x480 with 1 Axes>"
      ]
     },
     "metadata": {},
     "output_type": "display_data"
    }
   ],
   "source": [
    "import matplotlib.pyplot as plt\n",
    "\n",
    "# Plot the similarity scores\n",
    "x = range(1, len(similarity_scores) + 1)\n",
    "y = [score[0] for score in similarity_scores]\n",
    "\n",
    "plt.bar(x, y)\n",
    "plt.xlabel('Document')\n",
    "plt.ylabel('Similarity Score')\n",
    "plt.title('Cosine Similarity Scores')\n",
    "plt.show()"
   ]
  }
 ],
 "metadata": {
  "kernelspec": {
   "display_name": "myenv",
   "language": "python",
   "name": "python3"
  },
  "language_info": {
   "codemirror_mode": {
    "name": "ipython",
    "version": 3
   },
   "file_extension": ".py",
   "mimetype": "text/x-python",
   "name": "python",
   "nbconvert_exporter": "python",
   "pygments_lexer": "ipython3",
   "version": "3.10.12"
  }
 },
 "nbformat": 4,
 "nbformat_minor": 2
}
